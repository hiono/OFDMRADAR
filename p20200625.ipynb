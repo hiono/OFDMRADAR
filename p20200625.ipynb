{
 "cells": [
  {
   "cell_type": "code",
   "execution_count": 1,
   "metadata": {
    "colab": {},
    "colab_type": "code",
    "id": "0U5r39F7NoSe"
   },
   "outputs": [],
   "source": [
    "# -*- coding:utf-8 -*-\n",
    "import numpy as np\n",
    "import math\n",
    "import matplotlib.pyplot as plt\n",
    "import matplotlib\n",
    "matplotlib.rc('font', family='Noto Sans CJK JP')\n",
    "matplotlib.style.use('dark_background')\n",
    "import random\n",
    "# from define_property import define_properties\n",
    "\n",
    "# import typing as tp\n",
    "from typing import List, Dict, Tuple, Optional, Union, Any\n",
    "# from typing import TypeVar, Generic\n",
    "from nptyping import NDArray, Float\n",
    "\n",
    "import logging\n",
    "\n",
    "formatter = \"[%(levelname)-6s] %(message)s\"\n",
    "logging.basicConfig(level=logging.INFO, format=formatter)\n",
    "\n",
    "import sys\n",
    "\n",
    "# print(sys.path)\n",
    "# print(sys.version_info)"
   ]
  },
  {
   "cell_type": "code",
   "execution_count": 2,
   "metadata": {
    "cellView": "form",
    "colab": {},
    "colab_type": "code",
    "id": "8xHeIWKbOdYt"
   },
   "outputs": [],
   "source": [
    "# @title define_property\n",
    "import sys\n",
    "import logging\n",
    "\n",
    "\n",
    "def define_property(self, name, value=None, readable=True, writable=True):\n",
    "    # \"_User__name\" のような name mangling 後の名前.\n",
    "    field_name = \"_{}__{}\".format(self.__class__.__name__, name)\n",
    "\n",
    "    # 初期値を設定する.\n",
    "    setattr(self, field_name, value)\n",
    "\n",
    "    # getter/setter を生成し, プロパティを定義する.\n",
    "    getter = (lambda self: getattr(self, field_name)) if readable else None\n",
    "    setter = (\n",
    "        (lambda self, value: setattr(self, field_name, value)) if writable else None\n",
    "    )\n",
    "    setattr(self.__class__, name, property(getter, setter))\n",
    "\n",
    "\n",
    "def define_properties(constructor=None, *, accessible=(), readable=(), writable=()):\n",
    "    if callable(constructor):\n",
    "\n",
    "        def wrapper(self, *args, **kwargs):\n",
    "            for name, value in kwargs.items():\n",
    "                logging.debug(\n",
    "                    \"{}.{}: {}: {}\".format(\n",
    "                        self.__class__.__name__,\n",
    "                        sys._getframe().f_code.co_name,\n",
    "                        name,\n",
    "                        value,\n",
    "                    )\n",
    "                )\n",
    "                define_property(self, name, value)\n",
    "            constructor(self, *args, **kwargs)\n",
    "\n",
    "        return wrapper\n",
    "    else:\n",
    "        to_set = (\n",
    "            lambda x: set(x)\n",
    "            if any(isinstance(x, type_) for type_ in (set, list, tuple))\n",
    "            else {x}\n",
    "        )\n",
    "        accessibles = to_set(accessible)\n",
    "        readables = accessibles | to_set(readable)\n",
    "        writables = accessibles | to_set(writable)\n",
    "\n",
    "        def decorator(constructor):\n",
    "            def wrapper(self, *args, **kwargs):\n",
    "                for name in readables | writables:\n",
    "                    readable = name in readables\n",
    "                    writable = name in writables\n",
    "                    initial_value = kwargs.get(name, None)\n",
    "                    logging.debug(\n",
    "                        \"{}.{}: {}: {}\".format(\n",
    "                            self.__class__.__name__,\n",
    "                            sys._getframe().f_code.co_name,\n",
    "                            name,\n",
    "                            initial_value,\n",
    "                        )\n",
    "                    )\n",
    "                    define_property(self, name, initial_value, readable, writable)\n",
    "                constructor_kwargs = dict(\n",
    "                    [\n",
    "                        (key, kwargs[key])\n",
    "                        for key in (constructor.__kwdefaults__ or {})\n",
    "                        if key in kwargs\n",
    "                    ]\n",
    "                )\n",
    "                constructor(self, *args, **constructor_kwargs)\n",
    "\n",
    "            return wrapper\n",
    "\n",
    "        return decorator"
   ]
  },
  {
   "cell_type": "markdown",
   "metadata": {
    "colab_type": "text",
    "id": "YvvzjQASNoSl"
   },
   "source": [
    "## 初期値"
   ]
  },
  {
   "cell_type": "code",
   "execution_count": 3,
   "metadata": {
    "colab": {},
    "colab_type": "code",
    "id": "2a05ycoiNoSm"
   },
   "outputs": [],
   "source": [
    "# チャンネル数, Txアンテナ数\n",
    "Nch: int = 4\n",
    "# Rxアンテナ数\n",
    "NchRx: int = 3"
   ]
  },
  {
   "cell_type": "markdown",
   "metadata": {
    "colab_type": "text",
    "id": "mtVaIrHONoSq"
   },
   "source": [
    "## Object Base Class"
   ]
  },
  {
   "cell_type": "code",
   "execution_count": 4,
   "metadata": {
    "colab": {},
    "colab_type": "code",
    "id": "U9iOp_jlNoSr"
   },
   "outputs": [],
   "source": [
    "class RadarObject:\n",
    "    \"\"\"\n",
    "    Rader Object\n",
    "    Rader Object の初期座標、加速度等の値を保持するクラス\n",
    "\n",
    "    Attributes\n",
    "    ----------\n",
    "    x: float \n",
    "        initial location x\n",
    "    y: float\n",
    "        initial location y\n",
    "    accl_x: float\n",
    "        acceleration vector x\n",
    "    accl_y: float\n",
    "        acceleration vector y\n",
    "    \"\"\"\n",
    "\n",
    "    x: float\n",
    "    y: float\n",
    "    accl_x: float\n",
    "    accl_y: float\n",
    "\n",
    "    @define_properties(readable=(\"x\", \"y\", \"accl_x\", \"accl_y\"))\n",
    "    def __init__(self) -> None:\n",
    "        pass\n",
    "\n",
    "    @property\n",
    "    def loc(self) -> Tuple[float, float]:\n",
    "        return self.x, self.y\n",
    "\n",
    "    @property\n",
    "    def loc_x(self) -> float:\n",
    "        return self.x\n",
    "\n",
    "    @property\n",
    "    def loc_y(self) -> float:\n",
    "        return self.y\n",
    "\n",
    "    def output(self) -> None:\n",
    "        print(\n",
    "            \"{}.{}: ({},{}),({},{})\".format(\n",
    "                self.__class__.__name__,\n",
    "                sys._getframe().f_code.co_name,\n",
    "                self.x,\n",
    "                self.y,\n",
    "                self.accl_x,\n",
    "                self.accl_y,\n",
    "            )\n",
    "        )\n",
    "\n",
    "\n",
    "class RadarObjectGroup:\n",
    "    \"\"\"\n",
    "    Rader Object Group\n",
    "    各Radar Objectの要素を纏めたアクセスを提供するクラス\n",
    "    \n",
    "    Attributes\n",
    "    ----------\n",
    "    list: List[RadarObject] \n",
    "        Rader Object Group の リスト\n",
    "    \"\"\"\n",
    "\n",
    "    list: List[RadarObject] = []\n",
    "\n",
    "    @define_properties(readable=\"list\")\n",
    "    def __init__(self) -> None:\n",
    "        pass\n",
    "\n",
    "    @property\n",
    "    def loc(self) -> List[Tuple[float, float]]:\n",
    "        return [i.loc for i in self.list]\n",
    "\n",
    "    @property\n",
    "    def loc_x(self) -> List[float]:\n",
    "        return [i.loc_x for i in self.list]\n",
    "\n",
    "    @property\n",
    "    def loc_y(self) -> List[float]:\n",
    "        return [i.loc_y for i in self.list]\n",
    "\n",
    "    def output(self) -> None:\n",
    "        for i in self.list:\n",
    "            i.output()"
   ]
  },
  {
   "cell_type": "markdown",
   "metadata": {
    "colab_type": "text",
    "id": "V9hq69WuNoSv"
   },
   "source": [
    "## Target Object Class"
   ]
  },
  {
   "cell_type": "code",
   "execution_count": 5,
   "metadata": {
    "colab": {},
    "colab_type": "code",
    "id": "38NJsy9INoSw"
   },
   "outputs": [],
   "source": [
    "class Target(RadarObject):\n",
    "    \"\"\"\n",
    "    物標\n",
    "\n",
    "    Attributes\n",
    "    ----------\n",
    "    x: float \n",
    "        initial location x\n",
    "    y: float\n",
    "        initial location y\n",
    "    accl_x: float\n",
    "        acceleration vector x\n",
    "    accl_y: float\n",
    "        acceleration vector y\n",
    "    \"\"\"\n",
    "    pass\n",
    "\n",
    "\n",
    "class TargetGroup(RadarObjectGroup):\n",
    "    \"\"\"\n",
    "    物標群\n",
    "    list: list of target object group\n",
    "    \"\"\"\n",
    "    pass"
   ]
  },
  {
   "cell_type": "markdown",
   "metadata": {
    "colab_type": "text",
    "id": "94ZdnNv1NoS0"
   },
   "source": [
    "## Antenna Object Class"
   ]
  },
  {
   "cell_type": "code",
   "execution_count": 6,
   "metadata": {
    "colab": {},
    "colab_type": "code",
    "id": "nFk21kL3NoS1"
   },
   "outputs": [],
   "source": [
    "class Antenna(RadarObject):\n",
    "    \"\"\"\n",
    "    アンテナ\n",
    "\n",
    "    Attributes\n",
    "    ----------\n",
    "    x: float \n",
    "        initial location x\n",
    "    y: float\n",
    "        initial location y\n",
    "    \"\"\"\n",
    "\n",
    "    def output(self) -> None:\n",
    "        print(\n",
    "            \"{}.{}: ({},{})\".format(\n",
    "                self.__class__.__name__, sys._getframe().f_code.co_name, self.x, self.y,\n",
    "            )\n",
    "        )\n",
    "\n",
    "\n",
    "class AntennaGroup(RadarObjectGroup):\n",
    "    \"\"\"\n",
    "    アレイ・アンテナ\n",
    "    list: list of Antenna object group\n",
    "    \"\"\"\n",
    "\n",
    "    pass"
   ]
  },
  {
   "cell_type": "code",
   "execution_count": 7,
   "metadata": {
    "colab": {},
    "colab_type": "code",
    "id": "fSPTtVDzNoS5",
    "tags": []
   },
   "outputs": [
    {
     "name": "stdout",
     "output_type": "stream",
     "text": [
      "Antenna.output: (10,20)\n",
      "(10, 20)\n",
      "Antenna.output: (30,40)\n",
      "(30, 40)\n",
      "30\n",
      "40\n",
      "[(10, 20), (30, 40)]\n",
      "[10, 30]\n",
      "[20, 40]\n",
      "Antenna.output: (10,20)\n",
      "Antenna.output: (30,40)\n"
     ]
    }
   ],
   "source": [
    "### Object Test\n",
    "a = Antenna(x=10, y=20)\n",
    "b = Antenna(x=30, y=40)\n",
    "a.output()\n",
    "print(a.loc)\n",
    "b.output()\n",
    "print(b.loc)\n",
    "print(b.loc_x)\n",
    "print(b.loc_y)\n",
    "c = AntennaGroup(list=[a, b])\n",
    "print(c.loc)\n",
    "print(c.loc_x)\n",
    "print(c.loc_y)\n",
    "c.output()"
   ]
  },
  {
   "cell_type": "markdown",
   "metadata": {
    "colab_type": "text",
    "id": "F9hlaRiJNoS-"
   },
   "source": [
    "## 物標およびアンテナ"
   ]
  },
  {
   "cell_type": "code",
   "execution_count": 8,
   "metadata": {
    "colab": {},
    "colab_type": "code",
    "id": "DEaeMBCCNoS_"
   },
   "outputs": [],
   "source": [
    "class ObjectLocation:\n",
    "    \"\"\"\n",
    "    ObjectLocation\n",
    "    \n",
    "    物標およびアンテナの位置関係を管理\n",
    "\n",
    "    Attributes\n",
    "    ----------\n",
    "    TX: AntennaGroup \n",
    "        Transmission Antenna Group Object\n",
    "    RX: AntennaGroup\n",
    "        Receiving Antenna Group Object\n",
    "    TGT: TargetGroup\n",
    "        Target Group Object\n",
    "    cur_time: float\n",
    "        Current time\n",
    "    \"\"\"\n",
    "\n",
    "    TX: AntennaGroup\n",
    "    RX: AntennaGroup\n",
    "    TGT: TargetGroup\n",
    "\n",
    "    @define_properties(readable=(\"TX\", \"RX\", \"TGT\"))\n",
    "    def __init__(self, *, cur_time: float = 0.0) -> None:\n",
    "        define_property(self, \"cur_time\", cur_time)\n",
    "        # pass\n",
    "\n",
    "    @property\n",
    "    def distance(self) -> NDArray[(Any, Any, Any), Float[64]]:\n",
    "        \"\"\"\n",
    "        Txアンテナ〜物標〜Rxアンテナ距離\n",
    "        \n",
    "        Returns\n",
    "        -------\n",
    "        res: NDArray[(Any, Any, Any), Float[64]]\n",
    "            Txアンテナ〜物標〜Rxアンテナの距離\n",
    "            res[RX, TGT, TX]\n",
    "        \"\"\"\n",
    "        # Txアンテナ〜物標距離\n",
    "        dist_tx_tgt = self.__get_distance(src=TX.loc, dest=TGT.loc)\n",
    "        # 物標〜Rxアンテナ距離\n",
    "        dist_tgt_rx = self.__get_distance(src=TGT.loc, dest=RX.loc)\n",
    "        # print(\"dist_tx_tgt = \", dist_tx_tgt.shape, dist_tx_tgt)\n",
    "        # print(\"dist_tgt_rx = \", dist_tgt_rx.shape, dist_tgt_rx)\n",
    "\n",
    "        [idxRx, idxTgt, idxTx] = np.unravel_index(\n",
    "            np.array(range(len(RX.loc) * len(TGT.loc) * len(TX.loc))),\n",
    "            (len(RX.loc), len(TGT.loc), len(TX.loc)),\n",
    "        )\n",
    "        # print(\"idxTx = \", idxTx)\n",
    "        # print(\"idxTgt = \", idxTgt)\n",
    "        # print(\"idxRx = \", idxRx)\n",
    "\n",
    "        res = np.reshape(\n",
    "            np.array(\n",
    "                [\n",
    "                    (\n",
    "                        dist_tx_tgt[idxTx[idx], idxTgt[idx]]\n",
    "                        + dist_tgt_rx[idxTgt[idx], idxRx[idx]]\n",
    "                    )\n",
    "                    for idx in range(len(idxTx))\n",
    "                ]\n",
    "            ),\n",
    "            [len(TGT.loc), len(RX.loc), len(TX.loc)],\n",
    "        )\n",
    "        # print(\"res = \", res.shape, res)\n",
    "        return res\n",
    "\n",
    "    def graph(self) -> None:\n",
    "        fig = plt.figure()\n",
    "        ax = fig.add_subplot(1, 1, 1)\n",
    "        ax.scatter(self.TX.loc_x, self.TX.loc_y, c=\"green\", label=\"TX\")\n",
    "        ax.scatter(self.RX.loc_x, self.RX.loc_y, c=\"blue\", label=\"RX\")\n",
    "        ax.scatter(self.TGT.loc_x, self.TGT.loc_y, c=\"orange\", label=\"TGT\")\n",
    "        ax.set_title(\"Object position\")\n",
    "        ax.set_xlabel(\"x\")\n",
    "        ax.set_ylabel(\"y\")\n",
    "        ax.legend(loc=\"lower right\")\n",
    "        fig.show()\n",
    "\n",
    "    def output(self) -> None:\n",
    "        for obj in [\"TX\", \"RX\", \"TGT\"]:\n",
    "            print(\n",
    "                \"{}.{}: {:3s}: {}\".format(\n",
    "                    self.__class__.__name__,\n",
    "                    sys._getframe().f_code.co_name,\n",
    "                    obj,\n",
    "                    eval(\"self.{}.loc\".format(obj)),\n",
    "                )\n",
    "            )\n",
    "\n",
    "    def __get_distance(\n",
    "        self, src: List[Tuple[float, float]], dest: List[Tuple[float, float]]\n",
    "    ) -> NDArray[(Any, Any), Float[64]]:\n",
    "        \"\"\"\n",
    "        Radar Object 間の距離を計算する\n",
    "\n",
    "        Parameters\n",
    "        ----------\n",
    "        src: List[Tuple[float, float]]\n",
    "            始点群\n",
    "        dest: List[Tuple[float, float]]\n",
    "            終点群\n",
    "\n",
    "        Returns\n",
    "        -------\n",
    "        res: NDArray[(Any, Any), Float[64]]\n",
    "            Radar Object 間の距離\n",
    "            res[始点(src), 終点(dest)]\n",
    "        \"\"\"\n",
    "        [i, j] = np.unravel_index(\n",
    "            np.array(range(len(src) * len(dest))), (len(src), len(dest))\n",
    "        )\n",
    "        s = np.array([src[k] for k in i])\n",
    "        d = np.array([dest[k] for k in j])\n",
    "        res = np.reshape(np.sqrt(np.sum((s - d) ** 2, axis=1)), [len(src), len(dest)])\n",
    "        return res"
   ]
  },
  {
   "cell_type": "code",
   "execution_count": 9,
   "metadata": {
    "colab": {},
    "colab_type": "code",
    "id": "4_tcoj13NoTD",
    "tags": []
   },
   "outputs": [
    {
     "name": "stdout",
     "output_type": "stream",
     "text": [
      "ObjectLocation.output: TX : [(0.0, 4.0), (0.6666666666666666, 8.0), (1.3333333333333333, 12.0), (2.0, 16.0)]\n",
      "ObjectLocation.output: RX : [(10.0, 0.0), (11.0, -1.0), (12.0, -2.0)]\n",
      "ObjectLocation.output: TGT: [(99, 10), (100, 8)]\n",
      "0.0\n",
      "1.0\n"
     ]
    },
    {
     "data": {
      "image/png": "[encoded data removed]",
      "text/plain": [
       "<Figure size 432x288 with 1 Axes>"
      ]
     },
     "metadata": {},
     "output_type": "display_data"
    }
   ],
   "source": [
    "## Initial Position\n",
    "TX = AntennaGroup(\n",
    "    list=[\n",
    "        Antenna(x=x, y=y)\n",
    "        for x, y in zip(np.linspace(0, 2, Nch), np.linspace(4.0, 16.0, Nch))\n",
    "    ]\n",
    ")\n",
    "RX = AntennaGroup(\n",
    "    list=[\n",
    "        Antenna(x=x, y=y)\n",
    "        for x, y in zip(np.linspace(10.0, 12.0, NchRx), np.linspace(0, -2.0, NchRx))\n",
    "    ]\n",
    ")\n",
    "TGT = TargetGroup(\n",
    "    list=[\n",
    "        Target(x=x, y=y, accl_x=ax, accl_y=ay)\n",
    "        for x, y, ax, ay in [(99, 10, 10, 10), (100, 8, 10, 10)]\n",
    "    ]\n",
    ")\n",
    "# TX.output()\n",
    "# RX.output()\n",
    "# TGT.output()\n",
    "ol = ObjectLocation(TX=TX, RX=RX, TGT=TGT)\n",
    "ol.output()\n",
    "ol.graph()\n",
    "ol.distance\n",
    "print(ol.cur_time)\n",
    "ol.cur_time = 1.0\n",
    "print(ol.cur_time)"
   ]
  },
  {
   "cell_type": "code",
   "execution_count": 10,
   "metadata": {
    "colab": {},
    "colab_type": "code",
    "id": "pb92cjyXNoTH"
   },
   "outputs": [
    {
     "data": {
      "text/plain": [
       "NDArray[(3,), Int[8]]"
      ]
     },
     "execution_count": 10,
     "metadata": {},
     "output_type": "execute_result"
    }
   ],
   "source": [
    "from nptyping import NDArray\n",
    "\n",
    "NDArray[(3,), np.int8]"
   ]
  },
  {
   "cell_type": "code",
   "execution_count": 11,
   "metadata": {
    "colab": {},
    "colab_type": "code",
    "id": "DEaeMBCCNoS_"
   },
   "outputs": [],
   "source": [
    "# import dataclasses\n",
    "from pydantic.dataclasses import dataclass\n",
    "\n",
    "\n",
    "@dataclass\n",
    "class RadarItem:\n",
    "    \"\"\"Class for keeping track of an item of radar.\"\"\"\n",
    "\n",
    "    # 送受信データビット数 QPSK is 2bit(00,01,10,11)\n",
    "    NumBits: int = 2\n",
    "    # サブキャリア\n",
    "    Nc: int = 1024\n",
    "    #     # vector from 0 to Nc-1\n",
    "    #     vecNc: NDArray[(1024), int] = np.array(range(math.floor((Nc - 1) / Nch)))\n",
    "    # 光速度\n",
    "    c0: float = 299792458\n",
    "    # 吸収率\n",
    "    absorptivity: float = 0.5\n",
    "    # OFDM symbol width\n",
    "    T: float = 11e-6\n",
    "    # OFDM cyclic prefix width\n",
    "    Tp: float = 1.375e-6\n",
    "    # Carrier interval 90.909kHz subcarrier grid\n",
    "    deltaF: float = 1 / T\n",
    "    # ADC Sampling frequency\n",
    "    Tsmp: float = T / Nc\n",
    "    # 最大検知可能距離 (m)\n",
    "    Rmax: float = c0 * Tp / 2\n",
    "    # distance resolution\n",
    "    Rres = Rmax / (Nc / (T / Tp))"
   ]
  },
  {
   "cell_type": "code",
   "execution_count": 12,
   "metadata": {
    "tags": []
   },
   "outputs": [
    {
     "name": "stdout",
     "output_type": "stream",
     "text": [
      "RadarItem(NumBits=2, Nc=1024, c0=299792458.0, absorptivity=0.5, T=1.1e-05, Tp=1.375e-06, deltaF=90909.09090909091, Tsmp=1.07421875e-08, Rmax=206.107314875)\n"
     ]
    }
   ],
   "source": [
    "ri = RadarItem()\n",
    "print(ri)"
   ]
  },
  {
   "cell_type": "code",
   "execution_count": 13,
   "metadata": {
    "colab": {},
    "colab_type": "code",
    "id": "DEaeMBCCNoS_"
   },
   "outputs": [],
   "source": [
    "class RaderWave:\n",
    "    \"\"\"\n",
    "    RaderWave\n",
    "    \n",
    "    レーダー波の管理\n",
    "\n",
    "    Attributes\n",
    "    ----------\n",
    "    data: NDArray[(Any), Int]\n",
    "        送信波シンボルデータ\n",
    "    item: RadarItem\n",
    "        レーダー波定数等\n",
    "    \"\"\"\n",
    "\n",
    "    data: NDArray[(Any), np.int32]\n",
    "    item: RadarItem\n",
    "\n",
    "    @define_properties(readable=(\"data\", \"item\"))\n",
    "    def __init__(self) -> None:\n",
    "        pass\n",
    "\n",
    "    @property\n",
    "    def TX_wave(self) -> NDArray[(Any, Any), np.complex128]:\n",
    "        \"\"\"\n",
    "        位相変換 PSK(Phase Shift keying)\n",
    "\n",
    "        $$\\begin{array}{l}N_{\\textrm{sym}} =1\\;\\left(1\\textrm{frame}\\right)\\\\x\\left(t\\right)=\\sum_{\\mu \n",
    "=0}^{N_{\\textrm{sym}} -1} \\sum_{n=0}^{N_c -1} d_{\\textrm{Tx}} \\left(\\mu N_c \n",
    "+n\\right)\\exp \\left(\\textrm{j2}\\pi {\\mathit{\\mathbf{f}}}_{\\mathit{\\mathbf{n}}} \n",
    "\\mathit{\\mathbf{t}}\\right)\\textrm{rect}\\left(\\frac{t-\\mu T}{T}\\right)\\end{array}$$\n",
    "\n",
    "        OPSK constellation part の式は $d_{\\textrm{Tx}} \\left(\\mu N_c +n\\right)$\n",
    "       \n",
    "        Returns\n",
    "        -------\n",
    "        res: NDArray[(Any, Any), np.complex128]:\n",
    "            送信波(fft前)\n",
    "        \"\"\"\n",
    "        M = 2 ** self.item.NumBits\n",
    "        m = np.arange(0, M)\n",
    "        phi = np.pi / 4\n",
    "        constellation = np.exp(1j * 2 * np.pi * m / M + 1j * phi)\n",
    "        # print(constellation)\n",
    "        # サブキャリア数分の1埋めベクターとアンテナ数分の単位行列のクロネッカー積を取ることでサブチャンネルにアンテナ毎のデータを割り当てる\n",
    "        UM = np.kron(np.ones(np.int(np.ceil((self.item.Nc / Nch)))), np.eye(Nch))\n",
    "        # アンテナ数で生成した単位行列をframe数分連結\n",
    "        UM = UM[:, : self.item.Nc]\n",
    "        # print(UM)\n",
    "        # OFDM変調 part の式は exp(j2𝜋𝑓𝑛𝑡)\n",
    "        TXDataQPSK = np.array([constellation[i] for i in self.data])\n",
    "        # print(\"TXDataQPSK=\", TXDataQPSK.shape, TXDataQPSK)\n",
    "        # サブチャンネル毎のデータ割り当て\n",
    "        res = UM * TXDataQPSK\n",
    "        return res\n",
    "\n",
    "    @property\n",
    "    def ideal_TX_wave(self) -> NDArray[(Any, Any), np.complex128]:\n",
    "        \"\"\"\n",
    "        位相変換 PSK(Phase Shift keying)\n",
    "\n",
    "        $$\\begin{array}{l}N_{\\textrm{sym}} =1\\;\\left(1\\textrm{frame}\\right)\\\\x\\left(t\\right)=\\sum_{\\mu \n",
    "=0}^{N_{\\textrm{sym}} -1} \\sum_{n=0}^{N_c -1} d_{\\textrm{Tx}} \\left(\\mu N_c \n",
    "+n\\right)\\exp \\left(\\textrm{j2}\\pi {\\mathit{\\mathbf{f}}}_{\\mathit{\\mathbf{n}}} \n",
    "\\mathit{\\mathbf{t}}\\right)\\textrm{rect}\\left(\\frac{t-\\mu T}{T}\\right)\\end{array}$$\n",
    "\n",
    "        OPSK constellation part の式は $d_{\\textrm{Tx}} \\left(\\mu N_c +n\\right)$\n",
    "       \n",
    "        Returns\n",
    "        -------\n",
    "        res: NDArray[(Any, Any), np.complex128]:\n",
    "            送信波\n",
    "        \"\"\"\n",
    "        return np.fft.ifft(self.TX_wave)"
   ]
  },
  {
   "cell_type": "markdown",
   "metadata": {},
   "source": [
    "送信ランダム データ シンボルを生成"
   ]
  },
  {
   "cell_type": "code",
   "execution_count": 14,
   "metadata": {
    "tags": []
   },
   "outputs": [
    {
     "name": "stdout",
     "output_type": "stream",
     "text": [
      "[3 2 2 ... 3 2 2]\n",
      "[3 2 2 ... 3 2 2]\n",
      "RadarItem(NumBits=2, Nc=1024, c0=299792458.0, absorptivity=0.5, T=1.1e-05, Tp=1.375e-06, deltaF=90909.09090909091, Tsmp=1.07421875e-08, Rmax=206.107314875)\n",
      "ideal_TX= (4, 1024) [[ 0.00966748+0.00138107j  0.00476648-0.01305788j  0.01121939-0.01774362j\n",
      "  ...  0.00891018+0.01487287j -0.01544753+0.00565708j\n",
      "   0.01426982+0.00428539j]\n",
      " [-0.00966748-0.01104854j  0.00628203-0.00163745j  0.00471611-0.02359841j\n",
      "  ...  0.00836557+0.00131911j -0.00090239-0.00102918j\n",
      "  -0.00751093+0.00059661j]\n",
      " [-0.01381068+0.01242961j  0.00096394-0.0121419j  -0.00592754-0.00663397j\n",
      "  ... -0.02163978-0.01356013j -0.0063366 -0.00252501j\n",
      "  -0.00110985+0.00825897j]\n",
      " [ 0.02485922+0.00552427j  0.01648347-0.00669467j  0.00056525+0.01243253j\n",
      "  ...  0.00620918-0.01100756j  0.0159783 +0.00066921j\n",
      "  -0.01064434+0.00442785j]]\n"
     ]
    },
    {
     "data": {
      "text/plain": [
       "[(0.0, 4.0),\n",
       " (0.6666666666666666, 8.0),\n",
       " (1.3333333333333333, 12.0),\n",
       " (2.0, 16.0)]"
      ]
     },
     "execution_count": 14,
     "metadata": {},
     "output_type": "execute_result"
    }
   ],
   "source": [
    "TXData = np.random.randint(0, 2 ** ri.NumBits, ri.Nc)\n",
    "# TXData = zeros(Nc,1);\n",
    "print(TXData)\n",
    "\n",
    "rw = RaderWave(data=TXData, item=ri)\n",
    "print(rw.data)\n",
    "print(rw.item)\n",
    "# TX = rw.TX_wave\n",
    "ideal_TX = rw.ideal_TX_wave\n",
    "print(\"ideal_TX=\", ideal_TX.shape, ideal_TX)\n",
    "TX.loc"
   ]
  },
  {
   "cell_type": "code",
   "execution_count": null,
   "metadata": {},
   "outputs": [],
   "source": []
  }
 ],
 "metadata": {
  "colab": {
   "collapsed_sections": [],
   "name": "p20200625.ipynb",
   "private_outputs": true,
   "provenance": []
  },
  "kernelspec": {
   "display_name": "Python 3",
   "language": "python",
   "name": "python3"
  },
  "language_info": {
   "codemirror_mode": {
    "name": "ipython",
    "version": 3
   },
   "file_extension": ".py",
   "mimetype": "text/x-python",
   "name": "python",
   "nbconvert_exporter": "python",
   "pygments_lexer": "ipython3",
   "version": "3.7.6-final"
  }
 },
 "nbformat": 4,
 "nbformat_minor": 4
}
